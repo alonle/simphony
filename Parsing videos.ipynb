{
 "cells": [
  {
   "cell_type": "markdown",
   "metadata": {},
   "source": [
    "# General stuff"
   ]
  },
  {
   "cell_type": "code",
   "execution_count": 66,
   "metadata": {
    "collapsed": false
   },
   "outputs": [],
   "source": [
    "import glob\n",
    "import re\n",
    "import pandas as pd\n",
    "import moviepy\n",
    "from moviepy.editor import *\n",
    "import subprocess\n",
    "import shlex\n",
    "\n",
    "MOVIES_PATH = \"./data\"\n"
   ]
  },
  {
   "cell_type": "code",
   "execution_count": 2,
   "metadata": {
    "collapsed": false
   },
   "outputs": [],
   "source": [
    "MOVIE_REGEX = '.*The[.]Simpsons[.]S(?P<season>\\d\\d)E(?P<episode>\\d\\d)[.].*'\n",
    "movie_files = glob.glob(MOVIES_PATH+\"/*.mkv\")\n",
    "\n",
    "movie_files_df = pd.DataFrame(\n",
    "    [ [m.group(0), m.group(\"season\"), m.group(\"episode\")] for m in [ re.search(MOVIE_REGEX, f) for f in movie_files] ],\n",
    "    columns=[\"filename\", \"season\", \"episode\"]\n",
    ")\n",
    "\n",
    "movie_files_df.to_csv(\"data/movie_files.csv\")"
   ]
  },
  {
   "cell_type": "code",
   "execution_count": 3,
   "metadata": {
    "collapsed": false,
    "scrolled": true
   },
   "outputs": [
    {
     "data": {
      "text/html": [
       "<div>\n",
       "<table border=\"1\" class=\"dataframe\">\n",
       "  <thead>\n",
       "    <tr style=\"text-align: right;\">\n",
       "      <th></th>\n",
       "      <th>filename</th>\n",
       "      <th>episode</th>\n",
       "    </tr>\n",
       "    <tr>\n",
       "      <th>season</th>\n",
       "      <th></th>\n",
       "      <th></th>\n",
       "    </tr>\n",
       "  </thead>\n",
       "  <tbody>\n",
       "    <tr>\n",
       "      <th>01</th>\n",
       "      <td>1</td>\n",
       "      <td>1</td>\n",
       "    </tr>\n",
       "    <tr>\n",
       "      <th>02</th>\n",
       "      <td>1</td>\n",
       "      <td>1</td>\n",
       "    </tr>\n",
       "    <tr>\n",
       "      <th>03</th>\n",
       "      <td>1</td>\n",
       "      <td>1</td>\n",
       "    </tr>\n",
       "    <tr>\n",
       "      <th>06</th>\n",
       "      <td>3</td>\n",
       "      <td>3</td>\n",
       "    </tr>\n",
       "    <tr>\n",
       "      <th>07</th>\n",
       "      <td>1</td>\n",
       "      <td>1</td>\n",
       "    </tr>\n",
       "    <tr>\n",
       "      <th>08</th>\n",
       "      <td>1</td>\n",
       "      <td>1</td>\n",
       "    </tr>\n",
       "    <tr>\n",
       "      <th>11</th>\n",
       "      <td>22</td>\n",
       "      <td>22</td>\n",
       "    </tr>\n",
       "    <tr>\n",
       "      <th>14</th>\n",
       "      <td>1</td>\n",
       "      <td>1</td>\n",
       "    </tr>\n",
       "    <tr>\n",
       "      <th>16</th>\n",
       "      <td>1</td>\n",
       "      <td>1</td>\n",
       "    </tr>\n",
       "    <tr>\n",
       "      <th>17</th>\n",
       "      <td>5</td>\n",
       "      <td>5</td>\n",
       "    </tr>\n",
       "    <tr>\n",
       "      <th>18</th>\n",
       "      <td>4</td>\n",
       "      <td>4</td>\n",
       "    </tr>\n",
       "    <tr>\n",
       "      <th>19</th>\n",
       "      <td>4</td>\n",
       "      <td>4</td>\n",
       "    </tr>\n",
       "    <tr>\n",
       "      <th>20</th>\n",
       "      <td>2</td>\n",
       "      <td>2</td>\n",
       "    </tr>\n",
       "    <tr>\n",
       "      <th>21</th>\n",
       "      <td>5</td>\n",
       "      <td>5</td>\n",
       "    </tr>\n",
       "    <tr>\n",
       "      <th>22</th>\n",
       "      <td>1</td>\n",
       "      <td>1</td>\n",
       "    </tr>\n",
       "    <tr>\n",
       "      <th>23</th>\n",
       "      <td>2</td>\n",
       "      <td>2</td>\n",
       "    </tr>\n",
       "    <tr>\n",
       "      <th>24</th>\n",
       "      <td>4</td>\n",
       "      <td>4</td>\n",
       "    </tr>\n",
       "    <tr>\n",
       "      <th>25</th>\n",
       "      <td>9</td>\n",
       "      <td>9</td>\n",
       "    </tr>\n",
       "  </tbody>\n",
       "</table>\n",
       "</div>"
      ],
      "text/plain": [
       "        filename  episode\n",
       "season                   \n",
       "01             1        1\n",
       "02             1        1\n",
       "03             1        1\n",
       "06             3        3\n",
       "07             1        1\n",
       "08             1        1\n",
       "11            22       22\n",
       "14             1        1\n",
       "16             1        1\n",
       "17             5        5\n",
       "18             4        4\n",
       "19             4        4\n",
       "20             2        2\n",
       "21             5        5\n",
       "22             1        1\n",
       "23             2        2\n",
       "24             4        4\n",
       "25             9        9"
      ]
     },
     "execution_count": 3,
     "metadata": {},
     "output_type": "execute_result"
    }
   ],
   "source": [
    "movie_files_df.groupby(\"season\").count()"
   ]
  },
  {
   "cell_type": "markdown",
   "metadata": {},
   "source": [
    "# Concatenating Segments"
   ]
  },
  {
   "cell_type": "code",
   "execution_count": 93,
   "metadata": {
    "collapsed": false,
    "scrolled": true
   },
   "outputs": [],
   "source": [
    "TMP_DIR = \"/tmp\"\n",
    "\n",
    "def create_movie(output_name, segments, movie_files_df=movie_files_df):\n",
    "    tmp_dir = TMP_DIR + \"/\" + output_name\n",
    "    # create temp dir\n",
    "    subprocess.call(\"rm -fr \" + tmp_dir, shell=True)\n",
    "    subprocess.call(\"mkdir \" + tmp_dir, shell=True)\n",
    "    \n",
    "    list_file = \"{}/list\".format(tmp_dir)\n",
    "    with open(list_file, 'w') as f:\n",
    "        for i, segment in enumerate(segments):\n",
    "            file_id, from_sec, to_sec = segment\n",
    "            print(\"Extracting segment #{} ({}-{} in file #{})...\".format(i, from_sec, to_sec, file_id))\n",
    "\n",
    "            input_file = movie_files_df.ix[file_id].filename\n",
    "            output_file = \"{}/{}.mkv\".format(tmp_dir, i)\n",
    "            \n",
    "            ffmpeg_command = \"ffmpeg -i {} -ss {} -to {} -async 1 -strict -2 {}\".format(shlex.quote(input_file), from_sec, to_sec, output_file)\n",
    "            f.write(\"file {}\\n\".format(output_file))\n",
    "\n",
    "            subprocess.call(ffmpeg_command, shell=True)\n",
    "\n",
    "    print(\"Concatenating all files...\")\n",
    "    subprocess.call(\"ffmpeg -safe 0 -f concat -i {} -async 1 -strict -2 {}\".format(list_file, output_name), shell=True)\n",
    "    print(\"Done. {} was created\".format(output_name))"
   ]
  },
  {
   "cell_type": "code",
   "execution_count": 94,
   "metadata": {
    "collapsed": false
   },
   "outputs": [
    {
     "name": "stdout",
     "output_type": "stream",
     "text": [
      "Extracting segment #0 (100-102 in file #0)...\n",
      "Extracting segment #1 (500-503 in file #1)...\n",
      "Extracting segment #2 (700-704 in file #2)...\n",
      "Concatenating all files...\n",
      "Done. test.mkv was created\n"
     ]
    }
   ],
   "source": [
    "segments = [[0,100,102], [1,500,503], [2,700,704]]\n",
    "\n",
    "create_movie(\"test.mkv\", segments)"
   ]
  },
  {
   "cell_type": "code",
   "execution_count": null,
   "metadata": {
    "collapsed": false
   },
   "outputs": [],
   "source": []
  },
  {
   "cell_type": "markdown",
   "metadata": {},
   "source": [
    "# Analyzing SRTs"
   ]
  },
  {
   "cell_type": "code",
   "execution_count": 96,
   "metadata": {
    "collapsed": false
   },
   "outputs": [
    {
     "data": {
      "text/plain": [
       "0.9767441860465116"
      ]
     },
     "execution_count": 96,
     "metadata": {},
     "output_type": "execute_result"
    }
   ],
   "source": [
    "from difflib import SequenceMatcher\n",
    "SequenceMatcher(None, 'the cat is going home', 'the cats is going home').ratio()"
   ]
  },
  {
   "cell_type": "code",
   "execution_count": 97,
   "metadata": {
    "collapsed": false
   },
   "outputs": [
    {
     "data": {
      "text/plain": [
       "[]"
      ]
     },
     "execution_count": 97,
     "metadata": {},
     "output_type": "execute_result"
    }
   ],
   "source": [
    "srt_files = glob.glob(MOVIES_PATH+\"/*.srt\")\n",
    "srt_files"
   ]
  },
  {
   "cell_type": "code",
   "execution_count": null,
   "metadata": {
    "collapsed": true
   },
   "outputs": [],
   "source": []
  },
  {
   "cell_type": "code",
   "execution_count": null,
   "metadata": {
    "collapsed": true
   },
   "outputs": [],
   "source": []
  },
  {
   "cell_type": "code",
   "execution_count": null,
   "metadata": {
    "collapsed": false
   },
   "outputs": [],
   "source": []
  },
  {
   "cell_type": "code",
   "execution_count": null,
   "metadata": {
    "collapsed": true
   },
   "outputs": [],
   "source": []
  }
 ],
 "metadata": {
  "anaconda-cloud": {},
  "kernelspec": {
   "display_name": "Python [Root]",
   "language": "python",
   "name": "Python [Root]"
  },
  "language_info": {
   "codemirror_mode": {
    "name": "ipython",
    "version": 3
   },
   "file_extension": ".py",
   "mimetype": "text/x-python",
   "name": "python",
   "nbconvert_exporter": "python",
   "pygments_lexer": "ipython3",
   "version": "3.5.2"
  }
 },
 "nbformat": 4,
 "nbformat_minor": 0
}
