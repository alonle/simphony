{
 "cells": [
  {
   "cell_type": "markdown",
   "metadata": {},
   "source": [
    "# General stuff"
   ]
  },
  {
   "cell_type": "code",
   "execution_count": 45,
   "metadata": {
    "collapsed": false
   },
   "outputs": [],
   "source": [
    "import glob\n",
    "import re\n",
    "import pandas as pd\n",
    "import numpy as np\n",
    "import moviepy\n",
    "from moviepy.editor import *\n",
    "import subprocess\n",
    "import shlex\n",
    "\n",
    "MOVIES_PATH = \"./data\"\n"
   ]
  },
  {
   "cell_type": "code",
   "execution_count": 2,
   "metadata": {
    "collapsed": false
   },
   "outputs": [],
   "source": [
    "MOVIE_REGEX = '.*The[.]Simpsons[.]S(?P<season>\\d\\d)E(?P<episode>\\d\\d)[.].*'\n",
    "movie_files = glob.glob(MOVIES_PATH+\"/*.mkv\")\n",
    "\n",
    "movie_files_df = pd.DataFrame(\n",
    "    [ [m.group(0), m.group(\"season\"), m.group(\"episode\")] for m in [ re.search(MOVIE_REGEX, f) for f in movie_files] ],\n",
    "    columns=[\"filename\", \"season\", \"episode\"]\n",
    ")\n",
    "\n",
    "movie_files_df.to_csv(\"data/movie_files.csv\")"
   ]
  },
  {
   "cell_type": "code",
   "execution_count": 3,
   "metadata": {
    "collapsed": false,
    "scrolled": true
   },
   "outputs": [
    {
     "data": {
      "text/html": [
       "<div>\n",
       "<table border=\"1\" class=\"dataframe\">\n",
       "  <thead>\n",
       "    <tr style=\"text-align: right;\">\n",
       "      <th></th>\n",
       "      <th>filename</th>\n",
       "      <th>episode</th>\n",
       "    </tr>\n",
       "    <tr>\n",
       "      <th>season</th>\n",
       "      <th></th>\n",
       "      <th></th>\n",
       "    </tr>\n",
       "  </thead>\n",
       "  <tbody>\n",
       "    <tr>\n",
       "      <th>01</th>\n",
       "      <td>1</td>\n",
       "      <td>1</td>\n",
       "    </tr>\n",
       "    <tr>\n",
       "      <th>02</th>\n",
       "      <td>1</td>\n",
       "      <td>1</td>\n",
       "    </tr>\n",
       "    <tr>\n",
       "      <th>03</th>\n",
       "      <td>1</td>\n",
       "      <td>1</td>\n",
       "    </tr>\n",
       "    <tr>\n",
       "      <th>06</th>\n",
       "      <td>3</td>\n",
       "      <td>3</td>\n",
       "    </tr>\n",
       "    <tr>\n",
       "      <th>07</th>\n",
       "      <td>1</td>\n",
       "      <td>1</td>\n",
       "    </tr>\n",
       "    <tr>\n",
       "      <th>08</th>\n",
       "      <td>1</td>\n",
       "      <td>1</td>\n",
       "    </tr>\n",
       "    <tr>\n",
       "      <th>11</th>\n",
       "      <td>22</td>\n",
       "      <td>22</td>\n",
       "    </tr>\n",
       "    <tr>\n",
       "      <th>14</th>\n",
       "      <td>1</td>\n",
       "      <td>1</td>\n",
       "    </tr>\n",
       "    <tr>\n",
       "      <th>16</th>\n",
       "      <td>1</td>\n",
       "      <td>1</td>\n",
       "    </tr>\n",
       "    <tr>\n",
       "      <th>17</th>\n",
       "      <td>5</td>\n",
       "      <td>5</td>\n",
       "    </tr>\n",
       "    <tr>\n",
       "      <th>18</th>\n",
       "      <td>4</td>\n",
       "      <td>4</td>\n",
       "    </tr>\n",
       "    <tr>\n",
       "      <th>19</th>\n",
       "      <td>4</td>\n",
       "      <td>4</td>\n",
       "    </tr>\n",
       "    <tr>\n",
       "      <th>20</th>\n",
       "      <td>2</td>\n",
       "      <td>2</td>\n",
       "    </tr>\n",
       "    <tr>\n",
       "      <th>21</th>\n",
       "      <td>5</td>\n",
       "      <td>5</td>\n",
       "    </tr>\n",
       "    <tr>\n",
       "      <th>22</th>\n",
       "      <td>1</td>\n",
       "      <td>1</td>\n",
       "    </tr>\n",
       "    <tr>\n",
       "      <th>23</th>\n",
       "      <td>2</td>\n",
       "      <td>2</td>\n",
       "    </tr>\n",
       "    <tr>\n",
       "      <th>24</th>\n",
       "      <td>4</td>\n",
       "      <td>4</td>\n",
       "    </tr>\n",
       "    <tr>\n",
       "      <th>25</th>\n",
       "      <td>9</td>\n",
       "      <td>9</td>\n",
       "    </tr>\n",
       "  </tbody>\n",
       "</table>\n",
       "</div>"
      ],
      "text/plain": [
       "        filename  episode\n",
       "season                   \n",
       "01             1        1\n",
       "02             1        1\n",
       "03             1        1\n",
       "06             3        3\n",
       "07             1        1\n",
       "08             1        1\n",
       "11            22       22\n",
       "14             1        1\n",
       "16             1        1\n",
       "17             5        5\n",
       "18             4        4\n",
       "19             4        4\n",
       "20             2        2\n",
       "21             5        5\n",
       "22             1        1\n",
       "23             2        2\n",
       "24             4        4\n",
       "25             9        9"
      ]
     },
     "execution_count": 3,
     "metadata": {},
     "output_type": "execute_result"
    }
   ],
   "source": [
    "movie_files_df.groupby(\"season\").count()"
   ]
  },
  {
   "cell_type": "markdown",
   "metadata": {},
   "source": [
    "# Concatenating Segments"
   ]
  },
  {
   "cell_type": "code",
   "execution_count": 4,
   "metadata": {
    "collapsed": false,
    "scrolled": true
   },
   "outputs": [],
   "source": [
    "TMP_DIR = \"/tmp\"\n",
    "\n",
    "def create_movie(output_name, segments, movie_files_df=movie_files_df):\n",
    "    tmp_dir = TMP_DIR + \"/\" + output_name\n",
    "    # create temp dir\n",
    "    subprocess.call(\"rm -fr \" + tmp_dir, shell=True)\n",
    "    subprocess.call(\"mkdir \" + tmp_dir, shell=True)\n",
    "    \n",
    "    list_file = \"{}/list\".format(tmp_dir)\n",
    "    with open(list_file, 'w') as f:\n",
    "        for i, segment in enumerate(segments):\n",
    "            file_id, from_sec, to_sec = segment\n",
    "            print(\"Extracting segment #{} ({}-{} in file #{})...\".format(i, from_sec, to_sec, file_id))\n",
    "\n",
    "            input_file = movie_files_df.ix[file_id].filename\n",
    "            output_file = \"{}/{}.mkv\".format(tmp_dir, i)\n",
    "            \n",
    "            ffmpeg_command = \"ffmpeg -i {} -ss {} -to {} -async 1 -strict -2 {}\".format(shlex.quote(input_file), from_sec, to_sec, output_file)\n",
    "            f.write(\"file {}\\n\".format(output_file))\n",
    "\n",
    "            subprocess.call(ffmpeg_command, shell=True)\n",
    "\n",
    "    print(\"Concatenating all files...\")\n",
    "    subprocess.call(\"ffmpeg -safe 0 -f concat -i {} -async 1 -strict -2 {}\".format(list_file, output_name), shell=True)\n",
    "    print(\"Done. {} was created\".format(output_name))"
   ]
  },
  {
   "cell_type": "code",
   "execution_count": 94,
   "metadata": {
    "collapsed": false
   },
   "outputs": [
    {
     "name": "stdout",
     "output_type": "stream",
     "text": [
      "Extracting segment #0 (100-102 in file #0)...\n",
      "Extracting segment #1 (500-503 in file #1)...\n",
      "Extracting segment #2 (700-704 in file #2)...\n",
      "Concatenating all files...\n",
      "Done. test.mkv was created\n"
     ]
    }
   ],
   "source": [
    "segments = [[0,100,102], [1,500,503], [2,700,704]]\n",
    "\n",
    "create_movie(\"test.mkv\", segments)"
   ]
  },
  {
   "cell_type": "code",
   "execution_count": null,
   "metadata": {
    "collapsed": false
   },
   "outputs": [],
   "source": []
  },
  {
   "cell_type": "markdown",
   "metadata": {},
   "source": [
    "# Analyzing SRTs"
   ]
  },
  {
   "cell_type": "code",
   "execution_count": 5,
   "metadata": {
    "collapsed": false
   },
   "outputs": [
    {
     "data": {
      "text/plain": [
       "0.9767441860465116"
      ]
     },
     "execution_count": 5,
     "metadata": {},
     "output_type": "execute_result"
    }
   ],
   "source": [
    "from difflib import SequenceMatcher\n",
    "SequenceMatcher(None, 'the cat is going home', 'the cats is going home').ratio()"
   ]
  },
  {
   "cell_type": "code",
   "execution_count": 54,
   "metadata": {
    "collapsed": false
   },
   "outputs": [],
   "source": [
    "%run subtitles.py\n",
    "\n",
    "srt_pds = []\n",
    "srt_files = glob.glob(MOVIES_PATH+\"/*.srt\")\n",
    "for srt in srt_files:\n",
    "    d = produce_dict(srt)\n",
    "    srt_pds.append(pd.DataFrame(d))\n",
    "\n",
    "all_srts = pd.concat(srt_pds)"
   ]
  },
  {
   "cell_type": "code",
   "execution_count": 57,
   "metadata": {
    "collapsed": false
   },
   "outputs": [
    {
     "data": {
      "text/html": [
       "<div>\n",
       "<table border=\"1\" class=\"dataframe\">\n",
       "  <thead>\n",
       "    <tr style=\"text-align: right;\">\n",
       "      <th></th>\n",
       "      <th>end</th>\n",
       "      <th>filename</th>\n",
       "      <th>start</th>\n",
       "      <th>text</th>\n",
       "    </tr>\n",
       "  </thead>\n",
       "  <tbody>\n",
       "    <tr>\n",
       "      <th>0</th>\n",
       "      <td>5.218</td>\n",
       "      <td>./data/The.Simpsons.S19E01.PROPER.PDTV.XviD-Ye...</td>\n",
       "      <td>2.152</td>\n",
       "      <td>The Simpsons S19E01 (JABF20)\\nHe Loves to Fly ...</td>\n",
       "    </tr>\n",
       "    <tr>\n",
       "      <th>1</th>\n",
       "      <td>9.521</td>\n",
       "      <td>./data/The.Simpsons.S19E01.PROPER.PDTV.XviD-Ye...</td>\n",
       "      <td>5.756</td>\n",
       "      <td>I will not wait 20 years\\nto make another movie</td>\n",
       "    </tr>\n",
       "    <tr>\n",
       "      <th>2</th>\n",
       "      <td>44.483</td>\n",
       "      <td>./data/The.Simpsons.S19E01.PROPER.PDTV.XviD-Ye...</td>\n",
       "      <td>42.653</td>\n",
       "      <td>My summer love.</td>\n",
       "    </tr>\n",
       "    <tr>\n",
       "      <th>3</th>\n",
       "      <td>54.146</td>\n",
       "      <td>./data/The.Simpsons.S19E01.PROPER.PDTV.XviD-Ye...</td>\n",
       "      <td>52.853</td>\n",
       "      <td>All right,</td>\n",
       "    </tr>\n",
       "    <tr>\n",
       "      <th>4</th>\n",
       "      <td>55.798</td>\n",
       "      <td>./data/The.Simpsons.S19E01.PROPER.PDTV.XviD-Ye...</td>\n",
       "      <td>54.147</td>\n",
       "      <td>next on my shoping list...</td>\n",
       "    </tr>\n",
       "    <tr>\n",
       "      <th>5</th>\n",
       "      <td>58.700</td>\n",
       "      <td>./data/The.Simpsons.S19E01.PROPER.PDTV.XviD-Ye...</td>\n",
       "      <td>56.511</td>\n",
       "      <td>a new phone.</td>\n",
       "    </tr>\n",
       "    <tr>\n",
       "      <th>6</th>\n",
       "      <td>61.486</td>\n",
       "      <td>./data/The.Simpsons.S19E01.PROPER.PDTV.XviD-Ye...</td>\n",
       "      <td>59.894</td>\n",
       "      <td>Attention, shoppers,</td>\n",
       "    </tr>\n",
       "    <tr>\n",
       "      <th>7</th>\n",
       "      <td>63.516</td>\n",
       "      <td>./data/The.Simpsons.S19E01.PROPER.PDTV.XviD-Ye...</td>\n",
       "      <td>61.487</td>\n",
       "      <td>iPhones now 20 cents.</td>\n",
       "    </tr>\n",
       "    <tr>\n",
       "      <th>8</th>\n",
       "      <td>66.254</td>\n",
       "      <td>./data/The.Simpsons.S19E01.PROPER.PDTV.XviD-Ye...</td>\n",
       "      <td>63.517</td>\n",
       "      <td>What happened to that mini-cell\\nphone I gave ...</td>\n",
       "    </tr>\n",
       "    <tr>\n",
       "      <th>9</th>\n",
       "      <td>69.240</td>\n",
       "      <td>./data/The.Simpsons.S19E01.PROPER.PDTV.XviD-Ye...</td>\n",
       "      <td>66.257</td>\n",
       "      <td>Ooh, I thought that\\nwas a lemon drop.</td>\n",
       "    </tr>\n",
       "  </tbody>\n",
       "</table>\n",
       "</div>"
      ],
      "text/plain": [
       "      end                                           filename   start  \\\n",
       "0   5.218  ./data/The.Simpsons.S19E01.PROPER.PDTV.XviD-Ye...   2.152   \n",
       "1   9.521  ./data/The.Simpsons.S19E01.PROPER.PDTV.XviD-Ye...   5.756   \n",
       "2  44.483  ./data/The.Simpsons.S19E01.PROPER.PDTV.XviD-Ye...  42.653   \n",
       "3  54.146  ./data/The.Simpsons.S19E01.PROPER.PDTV.XviD-Ye...  52.853   \n",
       "4  55.798  ./data/The.Simpsons.S19E01.PROPER.PDTV.XviD-Ye...  54.147   \n",
       "5  58.700  ./data/The.Simpsons.S19E01.PROPER.PDTV.XviD-Ye...  56.511   \n",
       "6  61.486  ./data/The.Simpsons.S19E01.PROPER.PDTV.XviD-Ye...  59.894   \n",
       "7  63.516  ./data/The.Simpsons.S19E01.PROPER.PDTV.XviD-Ye...  61.487   \n",
       "8  66.254  ./data/The.Simpsons.S19E01.PROPER.PDTV.XviD-Ye...  63.517   \n",
       "9  69.240  ./data/The.Simpsons.S19E01.PROPER.PDTV.XviD-Ye...  66.257   \n",
       "\n",
       "                                                text  \n",
       "0  The Simpsons S19E01 (JABF20)\\nHe Loves to Fly ...  \n",
       "1    I will not wait 20 years\\nto make another movie  \n",
       "2                                    My summer love.  \n",
       "3                                         All right,  \n",
       "4                         next on my shoping list...  \n",
       "5                                       a new phone.  \n",
       "6                               Attention, shoppers,  \n",
       "7                              iPhones now 20 cents.  \n",
       "8  What happened to that mini-cell\\nphone I gave ...  \n",
       "9             Ooh, I thought that\\nwas a lemon drop.  "
      ]
     },
     "execution_count": 57,
     "metadata": {},
     "output_type": "execute_result"
    }
   ],
   "source": [
    "all_srts[:10]\n"
   ]
  },
  {
   "cell_type": "code",
   "execution_count": null,
   "metadata": {
    "collapsed": false
   },
   "outputs": [],
   "source": [
    "\n",
    "\n"
   ]
  },
  {
   "cell_type": "code",
   "execution_count": null,
   "metadata": {
    "collapsed": false
   },
   "outputs": [],
   "source": []
  },
  {
   "cell_type": "code",
   "execution_count": null,
   "metadata": {
    "collapsed": true
   },
   "outputs": [],
   "source": []
  }
 ],
 "metadata": {
  "anaconda-cloud": {},
  "kernelspec": {
   "display_name": "Python [Root]",
   "language": "python",
   "name": "Python [Root]"
  },
  "language_info": {
   "codemirror_mode": {
    "name": "ipython",
    "version": 3
   },
   "file_extension": ".py",
   "mimetype": "text/x-python",
   "name": "python",
   "nbconvert_exporter": "python",
   "pygments_lexer": "ipython3",
   "version": "3.5.2"
  }
 },
 "nbformat": 4,
 "nbformat_minor": 0
}
